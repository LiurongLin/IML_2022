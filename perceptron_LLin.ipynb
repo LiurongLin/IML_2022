{
 "cells": [
  {
   "cell_type": "markdown",
   "metadata": {},
   "source": [
    "### Assignment 1"
   ]
  },
  {
   "cell_type": "code",
   "execution_count": 11,
   "metadata": {},
   "outputs": [
    {
     "name": "stdout",
     "output_type": "stream",
     "text": [
      "Requirement already satisfied: numpy in /home/hp/anaconda3/lib/python3.8/site-packages (1.20.1)\n",
      "Current working directory:  /home/hp/Documents/IML/Assignment1\n"
     ]
    }
   ],
   "source": [
    "import sys\n",
    "!{sys.executable} -m pip install numpy\n",
    "import os\n",
    "print(\"Current working directory: \", os.getcwd())\n",
    "import matplotlib.pyplot as plt"
   ]
  },
  {
   "cell_type": "code",
   "execution_count": 2,
   "metadata": {},
   "outputs": [],
   "source": [
    "# Import the necessary libraries/packages here\n",
    "import numpy as np\n",
    "# import math"
   ]
  },
  {
   "cell_type": "markdown",
   "metadata": {},
   "source": [
    "### Helpful Notes:\n",
    "1. Dataset 1: a linearly separable dataset where you can test the correctness of your base learner and boosting algorithms\n",
    "   \n",
    "   300 samples 2 features\n",
    "   \n",
    "   ![dataset1.png](./dataset1.png)\n",
    "   \n",
    "   Generally speaking, your learners shall 100% correctly classify the data in dataset 1.\n",
    "\n",
    "2. Dataset 2 ~ 4 : non-linearly separable cases, applying descent boosting techniques can be beneficial\n",
    "   \n",
    "   Dataset 2: 300 samples 2 features. In comparison to the performance of your single base learner, does your boosting algorithm perferm better?\n",
    "      \n",
    "   ![dataset2.png](./dataset2.png)\n",
    "      \n",
    "   Dataset 3: 400 samples 2 features (challenging)\n",
    "\n",
    "      A good classifier shall obtain a ellipse-like decision boundary on this dataset. Can your algorithms handle this dataset? If not, can you try to give reasonable explanations?\n",
    "\n",
    "   ![dataset3.png](./dataset3.png)\n",
    "\n",
    "   Dataset 4: 3000 samples 10 features (more challenging)\n",
    "   \n",
    "      This is more or less the higher dimensional version of dataset3. We visualize the first two features of dataset 3, As it is shown in the following figure, they are non-linearly separable. \n",
    "      \n",
    "      How do your algorithms perform?\n",
    "\n",
    "   ![dataset4.png](./dataset4.png)\n",
    "\n",
    "   \n",
    "3. The data is also provided in csv format:\n",
    "   1. Feature columns and a label column \n",
    "   \n",
    "HINTs: \n",
    "1. Split the data into two parts (i.e., training data and test data).\n",
    "2. Draw decision boundary (surface) of your classifiers (on dataset 1 & 2) can be helpful.\n",
    "3. Carefully design your experiments so that you can understand the influence of increasing or decreasing some parameters (e.g., learning rate, number of base learners in boosting Alg.)\n",
    "4. Make smart implementations (e.g., vectorization using numpy to avoid some nested-loops in python), so that you can efficiently run more experiments\n",
    "5. The performance of your classifiers is not of high priority in this assignment.\n",
    "   1. The datasets are all artificially generated (toy) data, in principle, there is no need to preprocess the data.\n",
    "   2. Constructive discussions on your findings are more important. If the results are not good, try to find out the reasons.\n",
    "   3. We hope this assignment can help you fill in the gap between theory and application.\n",
    "6. You are encouraged to implement not only Adaboost but also other boosting algorithms of your choice."
   ]
  },
  {
   "cell_type": "code",
   "execution_count": 3,
   "metadata": {},
   "outputs": [
    {
     "name": "stdout",
     "output_type": "stream",
     "text": [
      "(300, 2)\n",
      "(300,)\n"
     ]
    }
   ],
   "source": [
    "\"\"\" Load the dataset\n",
    "Dataset (Numpy npz file)\n",
    "|- features (Numpy.ndarray)\n",
    "|- labels (Numpy.ndarray)\n",
    "\n",
    "The data is also provided in csv format.\n",
    "\"\"\"\n",
    "\n",
    "def load_data(file_name='./dataset1.npz'):\n",
    "    \"\"\" Load the Numpy npz format dataset \n",
    "    Args:\n",
    "        file_name (string): name and path to the dataset (dataset1.npz, dataset2.npz, dataset3.npz)\n",
    "    Returns:\n",
    "        X (Numpy.ndarray): features\n",
    "        y (Numpy.ndarray): 1D labels\n",
    "    \"\"\"\n",
    "    import numpy as np\n",
    "    data = np.load(file_name)\n",
    "    X, y = data['features'], data['labels']\n",
    "    return X, y\n",
    "\n",
    "# Load dataset 1 by default\n",
    "X, y =load_data()\n",
    "print(X.shape)\n",
    "print(y.shape)"
   ]
  },
  {
   "cell_type": "markdown",
   "metadata": {},
   "source": [
    "### Skeleton codes:\n",
    "You should follow the structure of this code:"
   ]
  },
  {
   "cell_type": "code",
   "execution_count": 7,
   "metadata": {},
   "outputs": [],
   "source": [
    "class Perceptron:\n",
    "    # Implement your base learner here\n",
    "    def __init__(self, learning_rate, max_iter, **kwargs):\n",
    "        \"\"\" Initialize the parameters here \n",
    "        Args:\n",
    "            learning_rate (float or a collection of floats): your learning rate\n",
    "            max_iter (int): the maximum number of training iterations\n",
    "            Other parameters of your choice\n",
    "\n",
    "        Examples ToDos:\n",
    "        self.learning_rate = learning_rate\n",
    "        self.max_iter = max_iter\n",
    "\n",
    "        Try different initialization strategies (as required in Question 2.3)\n",
    "        \"\"\"\n",
    "        self.learning_rate = learning_rate\n",
    "        self.max_iter = max_iter\n",
    "        self.w = 0\n",
    "        pass\n",
    "\n",
    "    def fit(self, X, y, **kwargs):\n",
    "        \"\"\" Implement the training strategy here\n",
    "        Args:\n",
    "            X (Numpy.ndarray, list, etc.): The training data\n",
    "            y (Numpy.ndarray, list, etc.): The labels\n",
    "            Other parameters of your choice\n",
    "\n",
    "        Example ToDos:\n",
    "        # for _ in range(self.max_iter):\n",
    "        #     Update the parameters of Perceptron according to the learning rate (self.learning_rate) and data (X, y)\n",
    "        \"\"\" \n",
    "        self.w = np.ones(X.shape[1])\n",
    "        for t in range(self.max_iter):\n",
    "            for i, x in enumerate(X):\n",
    "                if (np.dot(X[i], self.w)*y[i]) <= 0:\n",
    "                    self.w = self.w + self.learning_rate*X[i]*y[i]\n",
    "\n",
    "        \n",
    "\n",
    "        \n",
    "\n",
    "    def predict(self, x, **kwargs) -> np.ndarray:\n",
    "        \"\"\" Implement the prediction strategy here\n",
    "        Args:\n",
    "            x (Numpy.ndarray, list, Numpy.array, etc.): The input data\n",
    "            Other parameters of your choice\n",
    "        Return(s):\n",
    "            The prediction value(s), namely, class label(s), others of your choice\n",
    "        \"\"\" \n",
    "        return np.dot(x,self.w)"
   ]
  },
  {
   "cell_type": "code",
   "execution_count": 20,
   "metadata": {},
   "outputs": [
    {
     "data": {
      "text/plain": [
       "<matplotlib.legend.Legend at 0x7f7f6521ba30>"
      ]
     },
     "execution_count": 20,
     "metadata": {},
     "output_type": "execute_result"
    },
    {
     "data": {
      "image/png": "[encoded data removed]",
      "text/plain": [
       "<Figure size 1080x720 with 1 Axes>"
      ]
     },
     "metadata": {
      "needs_background": "light"
     },
     "output_type": "display_data"
    }
   ],
   "source": [
    "per = Perceptron(0.01,100)\n",
    "per.fit(X[:200],y[:200])\n",
    "y_predict = per.predict(X[100:])\n",
    "\n",
    "plt.figure(figsize = (15,10))\n",
    "X_p = X[100:][y_predict>0]\n",
    "X_n = X[100:][y_predict<0]\n",
    "\n",
    "plt.scatter(X_p[:,0],X_p[:,1],label = \"1\")\n",
    "plt.scatter(X_n[:,0],X_n[:,1],label = \"-1\")\n",
    "\n",
    "plt.legend()"
   ]
  },
  {
   "cell_type": "code",
   "execution_count": null,
   "metadata": {},
   "outputs": [],
   "source": [
    "class BoostingAlgorithm:\n",
    "    # Implement your boosting algorithm here\n",
    "    def __init__(self, n_estimators, **kwargs):\n",
    "        \"\"\" Initialize the parameters here \n",
    "        Args:\n",
    "            n_estimators (int): number of base perceptron models\n",
    "            Other parameters of your choice\n",
    "        \n",
    "        Think smartly on how to utilize multiple perceptron models\n",
    "        \"\"\"\n",
    "        pass\n",
    "\n",
    "    def fit(self, X, y, **kwargs):\n",
    "        \"\"\" Implement the training strategy here\n",
    "        Args:\n",
    "            X (Numpy.ndarray, list, etc.): The training data\n",
    "            y (Numpy.ndarray, list, etc.): The labels\n",
    "            Other parameters of your choice\n",
    "        \"\"\" \n",
    "        pass\n",
    "\n",
    "    def predict(self, x, **kwargs):\n",
    "        \"\"\" Implement the prediction strategy here\n",
    "        Args:\n",
    "            x (Numpy.ndarray, list, Numpy.array, etc.): The input data\n",
    "            Other parameters of your choice\n",
    "        Return(s):\n",
    "            The prediction value, namely, class label(s)\n",
    "        \"\"\" \n",
    "        return"
   ]
  },
  {
   "cell_type": "code",
   "execution_count": null,
   "metadata": {},
   "outputs": [],
   "source": [
    "def run(**kwargs):\n",
    "    \"\"\" Single run of your classifier\n",
    "    # Load the data\n",
    "    X, y = load_data()\n",
    "    # Find a way to split the data into training and test sets\n",
    "    -> X_train, y_train, X_test, y_test\n",
    "    \n",
    "    # Initialize the classifier\n",
    "    base = Perceptron(\"your parameters\")\n",
    "    \n",
    "    # Train the classifier\n",
    "    base.fit(X_train, y_train, \"other parameters\")\n",
    "   \n",
    "    # Test and score the base learner using the test data\n",
    "    y_pred = base.predict(X_test, \"other parameters\")\n",
    "    score = SCORING(y_pred, y_test)\n",
    "    \"\"\"\n",
    "    pass\n"
   ]
  },
  {
   "cell_type": "markdown",
   "metadata": {},
   "source": [
    "Good luck with the assignment"
   ]
  }
 ],
 "metadata": {
  "kernelspec": {
   "display_name": "Python 3",
   "language": "python",
   "name": "python3"
  },
  "language_info": {
   "codemirror_mode": {
    "name": "ipython",
    "version": 3
   },
   "file_extension": ".py",
   "mimetype": "text/x-python",
   "name": "python",
   "nbconvert_exporter": "python",
   "pygments_lexer": "ipython3",
   "version": "3.8.8"
  },
  "vscode": {
   "interpreter": {
    "hash": "90d3069fe3c3b20e4fbf57bf0cb04fe664322e8b41cb56c6c22d386a330b3fc4"
   }
  }
 },
 "nbformat": 4,
 "nbformat_minor": 2
}
